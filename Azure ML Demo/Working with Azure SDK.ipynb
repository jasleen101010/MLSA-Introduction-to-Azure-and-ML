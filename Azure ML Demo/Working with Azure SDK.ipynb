{
 "cells": [
  {
   "cell_type": "markdown",
   "metadata": {},
   "source": [
    "\n",
    "# Predicting House Price Amount\n",
    "\n",
    "---\n",
    "**Author** : Rahul Bordoloi\n",
    "\n",
    "**Email** : <rahulbordoloi24@gmail.com>, <rahul.bordoloi@highradius.com>\n",
    "\n",
    "---\n",
    "\n"
   ]
  },
  {
   "cell_type": "code",
   "execution_count": 4,
   "metadata": {},
   "outputs": [],
   "source": [
    "# Supress all Warnings\n",
    "import warnings\n",
    "warnings.filterwarnings('ignore')"
   ]
  },
  {
   "cell_type": "code",
   "execution_count": 23,
   "metadata": {},
   "outputs": [
    {
     "name": "stdout",
     "output_type": "stream",
     "text": [
      "SDK version: 1.18.0\n"
     ]
    }
   ],
   "source": [
    "# Check Core SDK version number\n",
    "import azureml.core\n",
    "\n",
    "print(\"SDK version:\", azureml.core.VERSION)"
   ]
  },
  {
   "cell_type": "code",
   "execution_count": 7,
   "metadata": {},
   "outputs": [
    {
     "name": "stdout",
     "output_type": "stream",
     "text": [
      "Deploying StorageAccount with name ronywsstorage76a1011e93f.\n",
      "Deploying KeyVault with name ronywskeyvault9e252d41de.\n",
      "Deploying AppInsights with name ronywsinsights29eec5f811.\n",
      "Deployed AppInsights with name ronywsinsights29eec5f811. Took 6.53 seconds.\n",
      "Deployed KeyVault with name ronywskeyvault9e252d41de. Took 23.22 seconds.\n",
      "Deployed StorageAccount with name ronywsstorage76a1011e93f. Took 31.07 seconds.\n",
      "Deploying Workspace with name rony_ws.\n",
      "Deployed Workspace with name rony_ws. Took 45.97 seconds.\n"
     ]
    }
   ],
   "source": [
    "# Setting up a Workspace [Creating a New One if you don't have one]\n",
    "from azureml.core import Workspace\n",
    "ws = Workspace.create(name = 'rony_ws',\n",
    "                     subscription_id = '69feeb77-e26a-4eda-a7a1-0c3a1d3c1e31',\n",
    "                     resource_group = 'rony-ml',\n",
    "                     create_resource_group = False,\n",
    "                     location = 'eastus')\n",
    "\n",
    "# Or Directing Importing a Pre-Existing Workspace from a JSON File if you've one\n",
    "## ws = Workspace.from_config(path = \"config.json\")"
   ]
  },
  {
   "cell_type": "code",
   "execution_count": 8,
   "metadata": {},
   "outputs": [
    {
     "name": "stdout",
     "output_type": "stream",
     "text": [
      "Writing my_azure_demo.py\n"
     ]
    }
   ],
   "source": [
    "%%writefile my_azure_demo.py\n",
    "\n",
    "# Importing Libraries\n",
    "import pandas as pd\n",
    "import numpy as np\n",
    "import seaborn as sns\n",
    "import matplotlib.pyplot as plt\n",
    "%matplotlib inline\n",
    "plt.rcParams['figure.figsize'] = (15, 5)\n",
    "import os\n",
    "\n",
    "# Loading a Dataset [Boston Dataset]\n",
    "from sklearn.datasets import load_boston\n",
    "data = load_boston()\n",
    "\n",
    "# Train-Test Data Split\n",
    "from sklearn.model_selection import train_test_split\n",
    "x_train, x_test, y_train, y_est = train_test_split(data.data[:, 5].reshape(-1, 1), data.target.reshape(-1, 1))\n",
    "\n",
    "# Creating a Linear Regression Model\n",
    "from sklearn.linear_model import LinearRegression\n",
    "model = LinearRegression()\n",
    "model.fit(x_train, y_train)"
   ]
  },
  {
   "cell_type": "code",
   "execution_count": 17,
   "metadata": {},
   "outputs": [
    {
     "data": {
      "text/plain": [
       "['output/model_lr.pkl']"
      ]
     },
     "execution_count": 17,
     "metadata": {},
     "output_type": "execute_result"
    }
   ],
   "source": [
    "# Saving the Model\n",
    "import joblib\n",
    "os.makedirs('output', exist_ok = True)\n",
    "joblib.dump(value = model, filename = 'output/model_lr.pkl')"
   ]
  },
  {
   "cell_type": "code",
   "execution_count": 20,
   "metadata": {},
   "outputs": [
    {
     "name": "stdout",
     "output_type": "stream",
     "text": [
      "Registering model boston_lr\n"
     ]
    }
   ],
   "source": [
    "# Registering Model into Workspace\n",
    "from azureml.core.model import Model\n",
    "azure_model = Model.register(workspace = ws,\n",
    "                            model_path = 'output/model_lr.pkl',\n",
    "                            model_name = 'boston_lr')"
   ]
  },
  {
   "cell_type": "markdown",
   "metadata": {},
   "source": [
    "<b> Training a Model using Azure ML"
   ]
  },
  {
   "cell_type": "code",
   "execution_count": 21,
   "metadata": {},
   "outputs": [
    {
     "name": "stdout",
     "output_type": "stream",
     "text": [
      "[{'name': 'Standard_DS1_v2', 'vCPUs': 1, 'gpus': 0, 'memoryGB': 3.5, 'maxResourceVolumeMB': 7168}, {'name': 'Standard_DS2_v2', 'vCPUs': 2, 'gpus': 0, 'memoryGB': 7.0, 'maxResourceVolumeMB': 14336}, {'name': 'Standard_DS3_v2', 'vCPUs': 4, 'gpus': 0, 'memoryGB': 14.0, 'maxResourceVolumeMB': 28672}, {'name': 'Standard_DS4_v2', 'vCPUs': 8, 'gpus': 0, 'memoryGB': 28.0, 'maxResourceVolumeMB': 57344}, {'name': 'Standard_DS5_v2', 'vCPUs': 16, 'gpus': 0, 'memoryGB': 56.0, 'maxResourceVolumeMB': 114688}, {'name': 'Standard_DS11_v2', 'vCPUs': 2, 'gpus': 0, 'memoryGB': 14.0, 'maxResourceVolumeMB': 28672}, {'name': 'Standard_DS12_v2', 'vCPUs': 4, 'gpus': 0, 'memoryGB': 28.0, 'maxResourceVolumeMB': 57344}, {'name': 'Standard_DS13_v2', 'vCPUs': 8, 'gpus': 0, 'memoryGB': 56.0, 'maxResourceVolumeMB': 114688}, {'name': 'Standard_DS14_v2', 'vCPUs': 16, 'gpus': 0, 'memoryGB': 112.0, 'maxResourceVolumeMB': 229376}, {'name': 'Standard_DS15_v2', 'vCPUs': 20, 'gpus': 0, 'memoryGB': 140.0, 'maxResourceVolumeMB': 286720}, {'name': 'Standard_D2s_v3', 'vCPUs': 2, 'gpus': 0, 'memoryGB': 8.0, 'maxResourceVolumeMB': 16384}, {'name': 'Standard_D4s_v3', 'vCPUs': 4, 'gpus': 0, 'memoryGB': 16.0, 'maxResourceVolumeMB': 32768}, {'name': 'Standard_D8s_v3', 'vCPUs': 8, 'gpus': 0, 'memoryGB': 32.0, 'maxResourceVolumeMB': 65536}, {'name': 'Standard_D16s_v3', 'vCPUs': 16, 'gpus': 0, 'memoryGB': 64.0, 'maxResourceVolumeMB': 131072}, {'name': 'Standard_D32s_v3', 'vCPUs': 32, 'gpus': 0, 'memoryGB': 128.0, 'maxResourceVolumeMB': 262144}, {'name': 'Standard_D1_v2', 'vCPUs': 1, 'gpus': 0, 'memoryGB': 3.5, 'maxResourceVolumeMB': 51200}, {'name': 'Standard_D2_v2', 'vCPUs': 2, 'gpus': 0, 'memoryGB': 7.0, 'maxResourceVolumeMB': 102400}, {'name': 'Standard_D3_v2', 'vCPUs': 4, 'gpus': 0, 'memoryGB': 14.0, 'maxResourceVolumeMB': 204800}, {'name': 'Standard_D4_v2', 'vCPUs': 8, 'gpus': 0, 'memoryGB': 28.0, 'maxResourceVolumeMB': 409600}, {'name': 'Standard_D11_v2', 'vCPUs': 2, 'gpus': 0, 'memoryGB': 14.0, 'maxResourceVolumeMB': 102400}, {'name': 'Standard_D12_v2', 'vCPUs': 4, 'gpus': 0, 'memoryGB': 28.0, 'maxResourceVolumeMB': 204800}, {'name': 'Standard_D13_v2', 'vCPUs': 8, 'gpus': 0, 'memoryGB': 56.0, 'maxResourceVolumeMB': 409600}, {'name': 'Standard_D14_v2', 'vCPUs': 16, 'gpus': 0, 'memoryGB': 112.0, 'maxResourceVolumeMB': 819200}, {'name': 'Standard_D2_v3', 'vCPUs': 2, 'gpus': 0, 'memoryGB': 8.0, 'maxResourceVolumeMB': 51200}, {'name': 'Standard_D4_v3', 'vCPUs': 4, 'gpus': 0, 'memoryGB': 16.0, 'maxResourceVolumeMB': 102400}, {'name': 'Standard_D8_v3', 'vCPUs': 8, 'gpus': 0, 'memoryGB': 32.0, 'maxResourceVolumeMB': 204800}, {'name': 'Standard_D16_v3', 'vCPUs': 16, 'gpus': 0, 'memoryGB': 64.0, 'maxResourceVolumeMB': 409600}, {'name': 'Standard_D32_v3', 'vCPUs': 32, 'gpus': 0, 'memoryGB': 128.0, 'maxResourceVolumeMB': 819200}, {'name': 'Standard_D64_v3', 'vCPUs': 64, 'gpus': 0, 'memoryGB': 256.0, 'maxResourceVolumeMB': 1638400}, {'name': 'Standard_D64s_v3', 'vCPUs': 64, 'gpus': 0, 'memoryGB': 256.0, 'maxResourceVolumeMB': 524288}, {'name': 'Standard_D15_v2', 'vCPUs': 20, 'gpus': 0, 'memoryGB': 140.0, 'maxResourceVolumeMB': 1024000}, {'name': 'Standard_NV6', 'vCPUs': 6, 'gpus': 1, 'memoryGB': 56.0, 'maxResourceVolumeMB': 389120}, {'name': 'Standard_NV12', 'vCPUs': 12, 'gpus': 2, 'memoryGB': 112.0, 'maxResourceVolumeMB': 696320}, {'name': 'Standard_NV24', 'vCPUs': 24, 'gpus': 4, 'memoryGB': 224.0, 'maxResourceVolumeMB': 1474560}, {'name': 'Standard_NV12s_v3', 'vCPUs': 12, 'gpus': 1, 'memoryGB': 112.0, 'maxResourceVolumeMB': 344064}, {'name': 'Standard_NV24s_v3', 'vCPUs': 24, 'gpus': 2, 'memoryGB': 224.0, 'maxResourceVolumeMB': 688128}, {'name': 'Standard_NV48s_v3', 'vCPUs': 48, 'gpus': 4, 'memoryGB': 448.0, 'maxResourceVolumeMB': 1376256}, {'name': 'Standard_HB120rs_v2', 'vCPUs': 120, 'gpus': 0, 'memoryGB': 468.75, 'maxResourceVolumeMB': 960000}, {'name': 'Standard_NC6s_v2', 'vCPUs': 6, 'gpus': 1, 'memoryGB': 112.0, 'maxResourceVolumeMB': 344064}, {'name': 'Standard_NC12s_v2', 'vCPUs': 12, 'gpus': 2, 'memoryGB': 224.0, 'maxResourceVolumeMB': 688128}, {'name': 'Standard_NC24rs_v2', 'vCPUs': 24, 'gpus': 4, 'memoryGB': 448.0, 'maxResourceVolumeMB': 1376256}, {'name': 'Standard_NC24s_v2', 'vCPUs': 24, 'gpus': 4, 'memoryGB': 448.0, 'maxResourceVolumeMB': 1376256}, {'name': 'Standard_F2s_v2', 'vCPUs': 2, 'gpus': 0, 'memoryGB': 4.0, 'maxResourceVolumeMB': 16384}, {'name': 'Standard_F4s_v2', 'vCPUs': 4, 'gpus': 0, 'memoryGB': 8.0, 'maxResourceVolumeMB': 32768}, {'name': 'Standard_F8s_v2', 'vCPUs': 8, 'gpus': 0, 'memoryGB': 16.0, 'maxResourceVolumeMB': 65536}, {'name': 'Standard_F16s_v2', 'vCPUs': 16, 'gpus': 0, 'memoryGB': 32.0, 'maxResourceVolumeMB': 131072}, {'name': 'Standard_F32s_v2', 'vCPUs': 32, 'gpus': 0, 'memoryGB': 64.0, 'maxResourceVolumeMB': 262144}, {'name': 'Standard_F64s_v2', 'vCPUs': 64, 'gpus': 0, 'memoryGB': 128.0, 'maxResourceVolumeMB': 524288}, {'name': 'Standard_F72s_v2', 'vCPUs': 72, 'gpus': 0, 'memoryGB': 144.0, 'maxResourceVolumeMB': 589824}, {'name': 'Standard_NC6', 'vCPUs': 6, 'gpus': 1, 'memoryGB': 56.0, 'maxResourceVolumeMB': 389120}, {'name': 'Standard_NC12', 'vCPUs': 12, 'gpus': 2, 'memoryGB': 112.0, 'maxResourceVolumeMB': 696320}, {'name': 'Standard_NC24', 'vCPUs': 24, 'gpus': 4, 'memoryGB': 224.0, 'maxResourceVolumeMB': 1474560}, {'name': 'Standard_NC24r', 'vCPUs': 24, 'gpus': 4, 'memoryGB': 224.0, 'maxResourceVolumeMB': 1474560}, {'name': 'Standard_D1', 'vCPUs': 1, 'gpus': 0, 'memoryGB': 3.5, 'maxResourceVolumeMB': 51200}, {'name': 'Standard_D2', 'vCPUs': 2, 'gpus': 0, 'memoryGB': 7.0, 'maxResourceVolumeMB': 102400}, {'name': 'Standard_D3', 'vCPUs': 4, 'gpus': 0, 'memoryGB': 14.0, 'maxResourceVolumeMB': 204800}, {'name': 'Standard_D4', 'vCPUs': 8, 'gpus': 0, 'memoryGB': 28.0, 'maxResourceVolumeMB': 409600}, {'name': 'Standard_D11', 'vCPUs': 2, 'gpus': 0, 'memoryGB': 14.0, 'maxResourceVolumeMB': 102400}, {'name': 'Standard_D12', 'vCPUs': 4, 'gpus': 0, 'memoryGB': 28.0, 'maxResourceVolumeMB': 204800}, {'name': 'Standard_D13', 'vCPUs': 8, 'gpus': 0, 'memoryGB': 56.0, 'maxResourceVolumeMB': 409600}, {'name': 'Standard_D14', 'vCPUs': 16, 'gpus': 0, 'memoryGB': 112.0, 'maxResourceVolumeMB': 819200}, {'name': 'Standard_HC44rs', 'vCPUs': 44, 'gpus': 0, 'memoryGB': 327.83, 'maxResourceVolumeMB': 716800}, {'name': 'Standard_ND6s', 'vCPUs': 6, 'gpus': 1, 'memoryGB': 112.0, 'maxResourceVolumeMB': 344064}, {'name': 'Standard_ND12s', 'vCPUs': 12, 'gpus': 2, 'memoryGB': 224.0, 'maxResourceVolumeMB': 688128}, {'name': 'Standard_ND24rs', 'vCPUs': 24, 'gpus': 4, 'memoryGB': 448.0, 'maxResourceVolumeMB': 1376256}, {'name': 'Standard_ND24s', 'vCPUs': 24, 'gpus': 4, 'memoryGB': 448.0, 'maxResourceVolumeMB': 1376256}, {'name': 'Standard_ND40rs_v2', 'vCPUs': 40, 'gpus': 8, 'memoryGB': 672.0, 'maxResourceVolumeMB': 2969600}, {'name': 'Standard_M64', 'vCPUs': 64, 'gpus': 0, 'memoryGB': 1000.0, 'maxResourceVolumeMB': 8192000}, {'name': 'Standard_M64m', 'vCPUs': 64, 'gpus': 0, 'memoryGB': 1750.0, 'maxResourceVolumeMB': 8192000}, {'name': 'Standard_M128', 'vCPUs': 128, 'gpus': 0, 'memoryGB': 2000.0, 'maxResourceVolumeMB': 16384000}, {'name': 'Standard_M128m', 'vCPUs': 128, 'gpus': 0, 'memoryGB': 3800.0, 'maxResourceVolumeMB': 16384000}, {'name': 'Standard_M8-2ms', 'vCPUs': 8, 'gpus': 0, 'memoryGB': 218.75, 'maxResourceVolumeMB': 256000}, {'name': 'Standard_M8-4ms', 'vCPUs': 8, 'gpus': 0, 'memoryGB': 218.75, 'maxResourceVolumeMB': 256000}, {'name': 'Standard_M8ms', 'vCPUs': 8, 'gpus': 0, 'memoryGB': 218.75, 'maxResourceVolumeMB': 256000}, {'name': 'Standard_M16-4ms', 'vCPUs': 16, 'gpus': 0, 'memoryGB': 437.5, 'maxResourceVolumeMB': 512000}, {'name': 'Standard_M16-8ms', 'vCPUs': 16, 'gpus': 0, 'memoryGB': 437.5, 'maxResourceVolumeMB': 512000}, {'name': 'Standard_M16ms', 'vCPUs': 16, 'gpus': 0, 'memoryGB': 437.5, 'maxResourceVolumeMB': 512000}, {'name': 'Standard_M32-8ms', 'vCPUs': 32, 'gpus': 0, 'memoryGB': 875.0, 'maxResourceVolumeMB': 1024000}, {'name': 'Standard_M32-16ms', 'vCPUs': 32, 'gpus': 0, 'memoryGB': 875.0, 'maxResourceVolumeMB': 1024000}, {'name': 'Standard_M32ls', 'vCPUs': 32, 'gpus': 0, 'memoryGB': 256.0, 'maxResourceVolumeMB': 1024000}, {'name': 'Standard_M32ms', 'vCPUs': 32, 'gpus': 0, 'memoryGB': 875.0, 'maxResourceVolumeMB': 1024000}, {'name': 'Standard_M32ts', 'vCPUs': 32, 'gpus': 0, 'memoryGB': 192.0, 'maxResourceVolumeMB': 1024000}, {'name': 'Standard_M64-16ms', 'vCPUs': 64, 'gpus': 0, 'memoryGB': 1750.0, 'maxResourceVolumeMB': 2048000}, {'name': 'Standard_M64-32ms', 'vCPUs': 64, 'gpus': 0, 'memoryGB': 1750.0, 'maxResourceVolumeMB': 2048000}, {'name': 'Standard_M64ls', 'vCPUs': 64, 'gpus': 0, 'memoryGB': 512.0, 'maxResourceVolumeMB': 2048000}, {'name': 'Standard_M64ms', 'vCPUs': 64, 'gpus': 0, 'memoryGB': 1750.0, 'maxResourceVolumeMB': 2048000}, {'name': 'Standard_M64s', 'vCPUs': 64, 'gpus': 0, 'memoryGB': 1000.0, 'maxResourceVolumeMB': 2048000}, {'name': 'Standard_M128-32ms', 'vCPUs': 128, 'gpus': 0, 'memoryGB': 3800.0, 'maxResourceVolumeMB': 4096000}, {'name': 'Standard_M128-64ms', 'vCPUs': 128, 'gpus': 0, 'memoryGB': 3800.0, 'maxResourceVolumeMB': 4096000}, {'name': 'Standard_M128ms', 'vCPUs': 128, 'gpus': 0, 'memoryGB': 3800.0, 'maxResourceVolumeMB': 4096000}, {'name': 'Standard_M128s', 'vCPUs': 128, 'gpus': 0, 'memoryGB': 2000.0, 'maxResourceVolumeMB': 4096000}, {'name': 'Standard_NC6s_v3', 'vCPUs': 6, 'gpus': 1, 'memoryGB': 112.0, 'maxResourceVolumeMB': 344064}, {'name': 'Standard_NC12s_v3', 'vCPUs': 12, 'gpus': 2, 'memoryGB': 224.0, 'maxResourceVolumeMB': 688128}, {'name': 'Standard_NC24rs_v3', 'vCPUs': 24, 'gpus': 4, 'memoryGB': 448.0, 'maxResourceVolumeMB': 1376256}, {'name': 'Standard_NC24s_v3', 'vCPUs': 24, 'gpus': 4, 'memoryGB': 448.0, 'maxResourceVolumeMB': 1376256}]\n"
     ]
    }
   ],
   "source": [
    "# Checking out the VMs Available\n",
    "from azureml.core.runconfig import RunConfiguration\n",
    "from azureml.core.compute import AmlCompute\n",
    "list_vms = AmlCompute.supported_vmsizes(workspace = ws)\n",
    "print(list_vms)"
   ]
  },
  {
   "cell_type": "code",
   "execution_count": 22,
   "metadata": {},
   "outputs": [
    {
     "name": "stdout",
     "output_type": "stream",
     "text": [
      "\n",
      "                        DEPRECATED\n",
      "                        We will be deprecating the run based creation of compute in the next release.\n",
      "                        We recommend creating an actual Amlcompute cluster as a persistent compute target, \n",
      "                        and using the cluster name as the compute target in your run configuration. \n",
      "                        See example notebook here: aka.ms/amlcomputenb\n",
      "                        \n"
     ]
    }
   ],
   "source": [
    "# We shall simple just use Standard_DS1_v2 [as it's Free :p]\n",
    "compute_config = RunConfiguration()\n",
    "compute_config.target = \"amlcompute\"\n",
    "compute_config.amlcompute.vm_size = \"Standard_DS1_v2\""
   ]
  },
  {
   "cell_type": "code",
   "execution_count": 30,
   "metadata": {},
   "outputs": [],
   "source": [
    "# Exporting Dependencies\n",
    "from azureml.core.conda_dependencies import CondaDependencies\n",
    "import sklearn, matplotlib\n",
    "dependencies = CondaDependencies()\n",
    "dependencies.set_python_version(\"3.6.8\")\n",
    "dependencies.add_pip_package(f\"scikit-learn=={sklearn.__version__}\")\n",
    "dependencies.add_pip_package(f\"numpy=={np.__version__}\")\n",
    "dependencies.add_pip_package(f\"pandas=={pd.__version__}\")\n",
    "dependencies.add_pip_package(f\"matplotlib=={matplotlib.__version__}\")\n",
    "compute_config.environment.python.conda_dependencies = dependencies"
   ]
  },
  {
   "cell_type": "markdown",
   "metadata": {},
   "source": [
    "<b> Training Model in the Cloud"
   ]
  },
  {
   "cell_type": "code",
   "execution_count": 36,
   "metadata": {
    "ExecuteTime": {
     "end_time": "2020-11-14T03:25:29.884785Z",
     "start_time": "2020-11-14T03:25:29.878801Z"
    }
   },
   "outputs": [
    {
     "name": "stdout",
     "output_type": "stream",
     "text": [
      "\n"
     ]
    }
   ],
   "source": [
    "# Training our Model in the Cloud\n",
    "from azureml.core.experiment import Experiment\n",
    "from azureml.core import ScriptRunConfig\n",
    "script_run_config = ScriptRunConfig(source_directory = \".\", script = \"my_azure_demo.py\", run_config = compute_config)\n",
    "experiment = Experiment(workspace = ws, name = \"boston_lr_model\")\n",
    "run = experiment.submit(config = script_run_config)\n",
    "run.wait_for_completion(show_output = True)"
   ]
  },
  {
   "cell_type": "markdown",
   "metadata": {},
   "source": [
    "<b> Deploying our Model in the Cloud"
   ]
  },
  {
   "cell_type": "code",
   "execution_count": 41,
   "metadata": {
    "ExecuteTime": {
     "end_time": "2020-11-14T03:28:15.073222Z",
     "start_time": "2020-11-14T03:28:15.068235Z"
    }
   },
   "outputs": [
    {
     "name": "stdout",
     "output_type": "stream",
     "text": [
      "['my_azure_demo.py', 'boston_lr_model.pkl']\n"
     ]
    }
   ],
   "source": [
    "# Finding our the File Names Associated with our Workspace\n",
    "run.get_file_names()"
   ]
  },
  {
   "cell_type": "code",
   "execution_count": 37,
   "metadata": {
    "ExecuteTime": {
     "end_time": "2020-11-14T03:25:58.021750Z",
     "start_time": "2020-11-14T03:25:58.016750Z"
    }
   },
   "outputs": [
    {
     "name": "stdout",
     "output_type": "stream",
     "text": [
      "[output/azure_cloud.pkl]\n"
     ]
    }
   ],
   "source": [
    "# Downloading our Model\n",
    "run.download_file(name = \"output/azure_cloud.pkl\")"
   ]
  },
  {
   "cell_type": "code",
   "execution_count": 38,
   "metadata": {
    "ExecuteTime": {
     "end_time": "2020-11-14T03:26:33.843279Z",
     "start_time": "2020-11-14T03:26:33.839288Z"
    }
   },
   "outputs": [],
   "source": [
    "# Loading the Model into Local Env\n",
    "import joblib\n",
    "run_model = joblib.load('output/azure_cloud.pkl')"
   ]
  },
  {
   "cell_type": "code",
   "execution_count": 40,
   "metadata": {
    "ExecuteTime": {
     "end_time": "2020-11-14T03:27:26.444466Z",
     "start_time": "2020-11-14T03:27:18.380237Z"
    }
   },
   "outputs": [
    {
     "name": "stdout",
     "output_type": "stream",
     "text": [
      "Registering model cloud_boston_lr\n"
     ]
    }
   ],
   "source": [
    "# If we're not Satisfied, we can retrain the Model Again\n",
    "from azureml.core.model import Model\n",
    "model = Model.register(workspace = ws, model_path = \"output/model_lr.pkl\", model_name = \"cloud_boston_lr\")"
   ]
  },
  {
   "cell_type": "markdown",
   "metadata": {},
   "source": [
    "# End"
   ]
  }
 ],
 "metadata": {
  "kernelspec": {
   "display_name": "Python 3",
   "language": "python",
   "name": "python3"
  },
  "language_info": {
   "codemirror_mode": {
    "name": "ipython",
    "version": 3
   },
   "file_extension": ".py",
   "mimetype": "text/x-python",
   "name": "python",
   "nbconvert_exporter": "python",
   "pygments_lexer": "ipython3",
   "version": "3.7.6"
  }
 },
 "nbformat": 4,
 "nbformat_minor": 4
}
