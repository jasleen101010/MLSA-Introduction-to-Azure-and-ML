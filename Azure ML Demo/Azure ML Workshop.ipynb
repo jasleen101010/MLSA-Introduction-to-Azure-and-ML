{
 "cells": [
  {
   "cell_type": "markdown",
   "metadata": {},
   "source": [
    "# Azure ML Workshop\n",
    "\n",
    "---\n",
    "**Author** : Rahul Bordoloi\n",
    "\n",
    "**Email** : <rahulbordoloi24@gmail.com>, <rahul.bordoloi@highradius.com>\n",
    "\n",
    "---\n",
    "\n"
   ]
  },
  {
   "cell_type": "markdown",
   "metadata": {},
   "source": [
    "If you've not installed Azure SDKs in your systems, use the Following Commands - \n",
    "\n",
    "```\n",
    "!pip install azureml\n",
    "!pip install azureml-core\n",
    "!pip install azureml-sdk\n",
    "```"
   ]
  },
  {
   "cell_type": "markdown",
   "metadata": {},
   "source": [
    "<u> Useful Links</u> - <br>\n",
    "*  [Azure Notes](https://towardsdatascience.com/deploying-ml-models-on-azure-a948c106f7b5) <br>\n",
    "*  [Azure Practice](https://docs.microsoft.com/en-us/learn/paths/build-ai-solutions-with-azure-ml-service/?WT.mc_id=Build2020_presentation_additionalresources) <br>\n",
    "*  [Azure ML API](https://docs.microsoft.com/en-us/python/api/overview/azure/ml/?view=azure-ml-py)"
   ]
  },
  {
   "cell_type": "code",
   "execution_count": 1,
   "metadata": {
    "ExecuteTime": {
     "end_time": "2020-11-14T03:16:28.550014Z",
     "start_time": "2020-11-14T03:16:18.815670Z"
    }
   },
   "outputs": [],
   "source": [
    "# Setting up Azure Workspace in Local\n",
    "from azureml.core import Workspace\n",
    "ws = Workspace.from_config(path = \"config.json\")"
   ]
  },
  {
   "cell_type": "code",
   "execution_count": 2,
   "metadata": {
    "ExecuteTime": {
     "end_time": "2020-11-14T03:16:58.383584Z",
     "start_time": "2020-11-14T03:16:53.972950Z"
    }
   },
   "outputs": [
    {
     "data": {
      "text/plain": [
       "[Experiment(Name: Trail_Experiment,\n",
       " Workspace: rony-ml)]"
      ]
     },
     "execution_count": 2,
     "metadata": {},
     "output_type": "execute_result"
    }
   ],
   "source": [
    "# Checking for List of Experiments in my Workspace\n",
    "from azureml.core.experiment import Experiment\n",
    "list_experiments = Experiment.list(ws)\n",
    "list_experiments"
   ]
  },
  {
   "cell_type": "code",
   "execution_count": 3,
   "metadata": {
    "ExecuteTime": {
     "end_time": "2020-11-14T03:17:37.262916Z",
     "start_time": "2020-11-14T03:17:33.140032Z"
    }
   },
   "outputs": [],
   "source": [
    "# Acquiring my Model Deployed in Azure Cloud Services\n",
    "from azureml.core.model import Model\n",
    "model = Model(workspace = ws, id = \"AutoML0ca6039479:1\")"
   ]
  },
  {
   "cell_type": "code",
   "execution_count": 4,
   "metadata": {
    "ExecuteTime": {
     "end_time": "2020-11-14T03:18:54.146208Z",
     "start_time": "2020-11-14T03:18:48.540176Z"
    }
   },
   "outputs": [
    {
     "data": {
      "text/plain": [
       "'model.pkl'"
      ]
     },
     "execution_count": 4,
     "metadata": {},
     "output_type": "execute_result"
    }
   ],
   "source": [
    "# Downloading the Model for Further Work\n",
    "model.download()"
   ]
  },
  {
   "cell_type": "code",
   "execution_count": 5,
   "metadata": {
    "ExecuteTime": {
     "end_time": "2020-11-14T03:19:22.842259Z",
     "start_time": "2020-11-14T03:19:22.836265Z"
    }
   },
   "outputs": [
    {
     "data": {
      "text/plain": [
       "{'createdTime': '2020-11-13T10:46:51.530526+00:00',\n",
       " 'createdBy': {'userObjectId': 'ae929e1c-4792-4b40-ac0e-10d3d7746efc',\n",
       "  'userPuId': '10032000C0EC0288',\n",
       "  'userIdp': 'live.com',\n",
       "  'userAltSecId': '1:live.com:00030000C1EB6A33',\n",
       "  'userIss': 'https://sts.windows.net/459dbdc0-ca1c-479e-8383-35091b84ea10/',\n",
       "  'userTenantId': '459dbdc0-ca1c-479e-8383-35091b84ea10',\n",
       "  'userName': 'Rahul Bordoloi'},\n",
       " 'description': None,\n",
       " 'id': 'AutoML0ca6039479:1',\n",
       " 'mimeType': 'application/json',\n",
       " 'name': 'AutoML0ca6039479',\n",
       " 'framework': 'AutoML',\n",
       " 'frameworkVersion': None,\n",
       " 'tags': {},\n",
       " 'properties': {},\n",
       " 'unpack': False,\n",
       " 'url': 'aml://asset/ce2c4d63af1643f4ab0a78cdd0565a89',\n",
       " 'version': 1,\n",
       " 'experimentName': 'Trail_Experiment',\n",
       " 'runId': 'AutoML_0ca60394-7d4f-4eb6-bca6-4770c64a3bf8_9',\n",
       " 'runDetails': 'Run(Experiment: Trail_Experiment,\\nId: AutoML_0ca60394-7d4f-4eb6-bca6-4770c64a3bf8_9,\\nType: azureml.scriptrun,\\nStatus: Completed)',\n",
       " 'datasets': [],\n",
       " 'resourceConfiguration': None,\n",
       " 'sampleInputDatasetId': None,\n",
       " 'sampleOutputDatasetId': None}"
      ]
     },
     "execution_count": 5,
     "metadata": {},
     "output_type": "execute_result"
    }
   ],
   "source": [
    "# Checking out Model Properties\n",
    "model.serialize()"
   ]
  },
  {
   "cell_type": "markdown",
   "metadata": {},
   "source": [
    "# End"
   ]
  }
 ],
 "metadata": {
  "kernelspec": {
   "display_name": "Python 3",
   "language": "python",
   "name": "python3"
  },
  "language_info": {
   "codemirror_mode": {
    "name": "ipython",
    "version": 3
   },
   "file_extension": ".py",
   "mimetype": "text/x-python",
   "name": "python",
   "nbconvert_exporter": "python",
   "pygments_lexer": "ipython3",
   "version": "3.7.6"
  }
 },
 "nbformat": 4,
 "nbformat_minor": 4
}
